{
 "cells": [
  {
   "cell_type": "code",
   "execution_count": 1,
   "id": "5b2e0df3",
   "metadata": {},
   "outputs": [
    {
     "name": "stdout",
     "output_type": "stream",
     "text": [
      "Count of Dhinesh labelling non-causal and me labelling non-causal: 3185\n",
      "Count of Dhinesh labelling causal and me labelling causal: 182\n",
      "Count of Dhinesh labelling non-causal and me labelling causal: 25\n",
      "Count of Dhinesh labelling causal and me labelling non-causal: 11\n"
     ]
    }
   ],
   "source": [
    "import pandas as pd\n",
    "# for Phase 1 data creation\n",
    "\n",
    "# Load the tsv files\n",
    "file1 = pd.read_csv('Processed_Dhinesh_Annotations', delimiter='\\t')\n",
    "file2 = pd.read_csv('processed_my_annotations', delimiter='\\t')\n",
    "\n",
    "# Extract only the required columns from both dataframes\n",
    "file1_subset = file1[['index', 'id1', 'id2', 'label']]\n",
    "file2_subset = file2[['index', 'id1', 'id2', 'label']]\n",
    "\n",
    "# Merge the two dataframes based on index, id1, and id2 columns\n",
    "merged = file1_subset.merge(file2_subset, on=['index', 'id1', 'id2'], how='inner', suffixes=('_file1', '_file2'))\n",
    "\n",
    "# Initialize counters for all categories\n",
    "count_00 = 0\n",
    "count_11 = 0\n",
    "count_01 = 0\n",
    "count_10 = 0\n",
    "\n",
    "# Iterate through the rows and compare labels\n",
    "for _, row in merged.iterrows():\n",
    "    label1 = row['label_file1']\n",
    "    label2 = row['label_file2']\n",
    "\n",
    "    if label1 == 0 and label2 == 0:\n",
    "        count_00 += 1\n",
    "    elif label1 == 1 and label2 == 1:\n",
    "        count_11 += 1\n",
    "    elif label1 == 0 and label2 == 1:\n",
    "        count_01 += 1\n",
    "    elif label1 == 1 and label2 == 0:\n",
    "        count_10 += 1\n",
    "\n",
    "print(f\"Count of Dhinesh labelling non-causal and me labelling non-causal: {count_00}\")\n",
    "print(f\"Count of Dhinesh labelling causal and me labelling causal: {count_11}\")\n",
    "print(f\"Count of Dhinesh labelling non-causal and me labelling causal: {count_01}\")\n",
    "print(f\"Count of Dhinesh labelling causal and me labelling non-causal: {count_10}\")\n"
   ]
  },
  {
   "cell_type": "code",
   "execution_count": 2,
   "id": "6bf7f784",
   "metadata": {},
   "outputs": [],
   "source": [
    "# from new_data_IAA (for Phase 2 data)\n",
    "count_00+=524\n",
    "count_11+=171\n",
    "count_01+=18\n",
    "count_10+=21"
   ]
  },
  {
   "cell_type": "code",
   "execution_count": 3,
   "id": "2d072b33",
   "metadata": {},
   "outputs": [
    {
     "name": "stdout",
     "output_type": "stream",
     "text": [
      "Count of Dhinesh labelling non-causal and me labelling non-causal: 3709\n",
      "Count of Dhinesh labelling causal and me labelling causal: 353\n",
      "Count of Dhinesh labelling non-causal and me labelling causal: 43\n",
      "Count of Dhinesh labelling causal and me labelling non-causal: 32\n"
     ]
    }
   ],
   "source": [
    "print(f\"Count of Dhinesh labelling non-causal and me labelling non-causal: {count_00}\")\n",
    "print(f\"Count of Dhinesh labelling causal and me labelling causal: {count_11}\")\n",
    "print(f\"Count of Dhinesh labelling non-causal and me labelling causal: {count_01}\")\n",
    "print(f\"Count of Dhinesh labelling causal and me labelling non-causal: {count_10}\")"
   ]
  },
  {
   "cell_type": "code",
   "execution_count": 4,
   "id": "2871129b",
   "metadata": {},
   "outputs": [
    {
     "name": "stdout",
     "output_type": "stream",
     "text": [
      "Cohen's kappa: 0.893962120614051\n"
     ]
    }
   ],
   "source": [
    "def calculate_cohens_kappa(count_00, count_11, count_01, count_10):\n",
    "    # Total number of observations\n",
    "    n = count_00 + count_11 + count_01 + count_10\n",
    "    \n",
    "    # Observed agreement\n",
    "    Po = (count_00 + count_11) / n\n",
    "    \n",
    "    # Expected agreement\n",
    "    Pe = ((count_00 + count_01) * (count_00 + count_10) + (count_11 + count_10) * (count_11 + count_01)) / n**2\n",
    "    \n",
    "    # Cohen's kappa\n",
    "    kappa = (Po - Pe) / (1 - Pe)\n",
    "    \n",
    "    return kappa\n",
    "\n",
    "# Calculate Cohen's kappa\n",
    "kappa = calculate_cohens_kappa(count_00, count_11, count_01, count_10)\n",
    "print(f\"Cohen's kappa: {kappa}\")\n",
    "\n"
   ]
  },
  {
   "cell_type": "code",
   "execution_count": null,
   "id": "34f3d892",
   "metadata": {},
   "outputs": [],
   "source": []
  }
 ],
 "metadata": {
  "kernelspec": {
   "display_name": "myenv",
   "language": "python",
   "name": "myenv"
  },
  "language_info": {
   "codemirror_mode": {
    "name": "ipython",
    "version": 3
   },
   "file_extension": ".py",
   "mimetype": "text/x-python",
   "name": "python",
   "nbconvert_exporter": "python",
   "pygments_lexer": "ipython3",
   "version": "3.10.0"
  },
  "toc": {
   "base_numbering": 1,
   "nav_menu": {},
   "number_sections": true,
   "sideBar": true,
   "skip_h1_title": false,
   "title_cell": "Table of Contents",
   "title_sidebar": "Contents",
   "toc_cell": false,
   "toc_position": {},
   "toc_section_display": true,
   "toc_window_display": false
  }
 },
 "nbformat": 4,
 "nbformat_minor": 5
}
