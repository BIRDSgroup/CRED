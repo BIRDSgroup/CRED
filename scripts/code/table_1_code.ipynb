{
 "cells": [
  {
   "cell_type": "code",
   "execution_count": 15,
   "id": "45173e0e",
   "metadata": {},
   "outputs": [],
   "source": [
    "import pandas as pd\n",
    "train_df = pd.read_csv('new_train_data', delimiter='\\t')\n",
    "test_df = pd.read_csv('test_data', delimiter='\\t')\n",
    "val_df = pd.read_csv('val_data', delimiter='\\t')"
   ]
  },
  {
   "cell_type": "code",
   "execution_count": 33,
   "id": "b2b792ee",
   "metadata": {},
   "outputs": [],
   "source": [
    "def print_stats(train_data, test_data, val_data):\n",
    "    train_data_before_aug = train_data.drop_duplicates(subset=['index', 'id1', 'id2'])\n",
    "    \n",
    "    print(\"Number of abstracts in train data before augmentation\",train_data['index'].nunique())\n",
    "    print(\"Number of abstracts in val data\",val_data['index'].nunique())        \n",
    "    print(\"Number of abstracts in test data\",test_data['index'].nunique())\n",
    "    print(\"Total Number of abstracts before augmentation\",train_data['index'].nunique()+val_data['index'].nunique()+test_data['index'].nunique())\n",
    "    print()\n",
    "    print()\n",
    "    print(\"Number of G-D pairs in train data before augmentation\",train_data_before_aug.shape[0])\n",
    "    print(\"Number of G-D pairs in train data after augmentation\",train_data.shape[0])\n",
    "    print(\"Number of G-D pairs in val data\",val_data.shape[0])        \n",
    "    print(\"Number of G-D pairs in test data\",test_data.shape[0]) \n",
    "    print(\"Total Number of G-D pairs before augmentation\",train_data_before_aug.shape[0]+val_data['index'].shape[0]+test_data['index'].shape[0])\n",
    "    print(\"Total Number of G-D pairs after augmentation\",train_data['index'].shape[0]+val_data['index'].shape[0]+test_data['index'].shape[0])\n",
    "    \n",
    "    print()\n",
    "    print()\n",
    "    print(\"Number of causal G-D pairs in train data before augmentation\",train_data_before_aug[train_data_before_aug[\"label\"]==1].shape[0])\n",
    "    print(\"Number of causal G-D pairs in train data after augmentation\",train_data[train_data[\"label\"]==1].shape[0])\n",
    "    print(\"Number of causal G-D pairs in val data\",val_data[val_data[\"label\"]==1].shape[0])        \n",
    "    print(\"Number of causal G-D pairs in test data\",test_data[test_data[\"label\"]==1].shape[0]) \n",
    "    print(\"Total Number of causal G-D pairs before augmentation\",train_data_before_aug[train_data_before_aug[\"label\"]==1].shape[0]+val_data[val_data[\"label\"]==1].shape[0]+test_data[test_data[\"label\"]==1].shape[0])\n",
    "    print(\"Total Number of causal G-D pairs after augmentation\",train_data[train_data[\"label\"]==1].shape[0]+val_data[val_data[\"label\"]==1].shape[0]+test_data[test_data[\"label\"]==1].shape[0])\n",
    "    \n",
    "    \n",
    " "
   ]
  },
  {
   "cell_type": "code",
   "execution_count": 34,
   "id": "8035b383",
   "metadata": {},
   "outputs": [
    {
     "name": "stdout",
     "output_type": "stream",
     "text": [
      "Number of abstracts in train data before augmentation 218\n",
      "Number of abstracts in val data 18\n",
      "Number of abstracts in test data 31\n",
      "Total Number of abstracts before augmentation 267\n",
      "\n",
      "\n",
      "Number of G-D pairs in train data before augmentation 2562\n",
      "Number of G-D pairs in train data after augmentation 4541\n",
      "Number of G-D pairs in val data 462\n",
      "Number of G-D pairs in test data 615\n",
      "Total Number of G-D pairs before augmentation 3639\n",
      "Total Number of G-D pairs after augmentation 5618\n",
      "\n",
      "\n",
      "Number of causal G-D pairs in train data before augmentation 303\n",
      "Number of causal G-D pairs in train data after augmentation 527\n",
      "Number of causal G-D pairs in val data 40\n",
      "Number of causal G-D pairs in test data 54\n",
      "Total Number of causal G-D pairs before augmentation 397\n",
      "Total Number of causal G-D pairs after augmentation 621\n"
     ]
    }
   ],
   "source": [
    "print_stats(train_df, test_df, val_df)"
   ]
  },
  {
   "cell_type": "code",
   "execution_count": null,
   "id": "5d8383c6",
   "metadata": {},
   "outputs": [],
   "source": []
  }
 ],
 "metadata": {
  "kernelspec": {
   "display_name": "myenv",
   "language": "python",
   "name": "myenv"
  },
  "language_info": {
   "codemirror_mode": {
    "name": "ipython",
    "version": 3
   },
   "file_extension": ".py",
   "mimetype": "text/x-python",
   "name": "python",
   "nbconvert_exporter": "python",
   "pygments_lexer": "ipython3",
   "version": "3.10.0"
  }
 },
 "nbformat": 4,
 "nbformat_minor": 5
}
